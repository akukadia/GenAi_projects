{
 "cells": [
  {
   "cell_type": "code",
   "execution_count": null,
   "metadata": {},
   "outputs": [],
   "source": [
    "from huggingface_hub import login\n",
    "login(token = \"\")"
   ]
  },
  {
   "cell_type": "code",
   "execution_count": null,
   "metadata": {},
   "outputs": [],
   "source": [
    "import os\n",
    "from googleapiclient.discovery import build\n",
    "from youtube_transcript_api import YouTubeTranscriptApi\n",
    "from transformers import AutoTokenizer, AutoModelForCausalLM, pipeline\n",
    "import torch\n",
    "import nltk\n",
    "from nltk.tokenize import sent_tokenize\n",
    "from sklearn.feature_extraction.text import TfidfVectorizer\n",
    "import numpy as np"
   ]
  },
  {
   "cell_type": "code",
   "execution_count": null,
   "metadata": {},
   "outputs": [],
   "source": [
    "# Download necessary NLTK data\n",
    "nltk.download('punkt')\n",
    "nltk.download('stopwords')"
   ]
  },
  {
   "cell_type": "code",
   "execution_count": null,
   "metadata": {},
   "outputs": [],
   "source": [
    "# Set up YouTube API client\n",
    "api_key = ''  # Replace with your YouTube Data API key\n",
    "youtube = build('youtube', 'v3', developerKey=api_key)"
   ]
  },
  {
   "cell_type": "code",
   "execution_count": null,
   "metadata": {},
   "outputs": [],
   "source": [
    "#Check for CUDA availability\n",
    "\n",
    "model_name = \"meta-llama/Meta-Llama-3-8B-Instruct\"  # You might need to adjust this based on Kaggle's available models\n",
    "tokenizer = AutoTokenizer.from_pretrained(model_name)\n",
    "model = AutoModelForCausalLM.from_pretrained(model_name, torch_dtype=torch.float16, device_map=\"auto\")"
   ]
  },
  {
   "cell_type": "code",
   "execution_count": null,
   "metadata": {},
   "outputs": [],
   "source": [
    "# Create a pipeline for text generation\n",
    "text_generator = pipeline(\"text-generation\", model=model, tokenizer=tokenizer)  # Use GPU"
   ]
  },
  {
   "cell_type": "code",
   "execution_count": null,
   "metadata": {},
   "outputs": [],
   "source": [
    "def get_video_info(video_id):\n",
    "    try:\n",
    "        request = youtube.videos().list(part=\"snippet\", id=video_id)\n",
    "        response = request.execute()\n",
    "        if 'items' in response and len(response['items']) > 0:\n",
    "            return response['items'][0]['snippet']\n",
    "        else:\n",
    "            print(f\"No video found with id: {video_id}\")\n",
    "            return None\n",
    "    except Exception as e:\n",
    "        print(f\"An error occurred: {str(e)}\")\n",
    "        return None"
   ]
  },
  {
   "cell_type": "code",
   "execution_count": null,
   "metadata": {},
   "outputs": [],
   "source": [
    "def get_transcript_with_timestamps(video_id):\n",
    "    return YouTubeTranscriptApi.get_transcript(video_id)"
   ]
  },
  {
   "cell_type": "code",
   "execution_count": null,
   "metadata": {},
   "outputs": [],
   "source": [
    "def format_timestamp(seconds):\n",
    "    minutes, seconds = divmod(int(seconds), 60)\n",
    "    hours, minutes = divmod(minutes, 60)\n",
    "    return f\"{hours:02d}:{minutes:02d}:{seconds:02d}\""
   ]
  },
  {
   "cell_type": "code",
   "execution_count": null,
   "metadata": {},
   "outputs": [],
   "source": [
    "def get_relevant_segments(transcript, keywords):\n",
    "    text_segments = [entry['text'] for entry in transcript]\n",
    "    vectorizer = TfidfVectorizer(stop_words='english')\n",
    "    tfidf_matrix = vectorizer.fit_transform(text_segments + [' '.join(keywords)])\n",
    "    \n",
    "    cosine_similarities = (tfidf_matrix * tfidf_matrix[-1].T).A.flatten()[:-1]\n",
    "    most_similar_indices = cosine_similarities.argsort()[-5:][::-1]  # Get top 5 relevant segments\n",
    "    \n",
    "    relevant_segments = [transcript[i] for i in most_similar_indices]\n",
    "    return relevant_segments"
   ]
  },
  {
   "cell_type": "code",
   "execution_count": null,
   "metadata": {},
   "outputs": [],
   "source": [
    "def get_dynamic_length(text_length, min_ratio=0.1, max_ratio=0.3, min_length=256, max_length=2048):\n",
    "    \"\"\"Calculate dynamic lengths for input and new tokens based on the input text length.\"\"\"\n",
    "    ratio = max(min_ratio, min(max_ratio, 1000 / text_length))\n",
    "    dynamic_length = int(text_length * ratio)\n",
    "    input_length = max(min_length, min(dynamic_length, max_length))\n",
    "    new_tokens = max(64, min(input_length // 2, 512))  # Ensure at least 64 new tokens, at most 512\n",
    "    return input_length, new_tokens"
   ]
  },
  {
   "cell_type": "code",
   "execution_count": null,
   "metadata": {},
   "outputs": [],
   "source": [
    "def generate_bullet_points(transcript, keywords=None):\n",
    "    if keywords:\n",
    "        relevant_segments = get_relevant_segments(transcript, keywords)\n",
    "    else:\n",
    "        relevant_segments = transcript\n",
    "\n",
    "    full_text = \" \".join([segment['text'] for segment in relevant_segments])\n",
    "    text_length = len(full_text.split())\n",
    "    \n",
    "    # Calculate dynamic lengths\n",
    "    input_length, max_new_tokens = get_dynamic_length(text_length)\n",
    "    \n",
    "    prompt = f\"Summarize the following text in 5 bullet points:\\n\\n{full_text}\\n\\nBullet points:\"\n",
    "    \n",
    "    try:\n",
    "        generated_text = text_generator(prompt, max_new_tokens=max_new_tokens, num_return_sequences=1)[0]['generated_text']\n",
    "        bullet_points = generated_text.split(\"Bullet points:\")[-1].strip().split('\\n')\n",
    "    except Exception as e:\n",
    "        print(f\"Error in bullet point generation: {str(e)}\")\n",
    "        bullet_points = sent_tokenize(full_text)[:5]\n",
    "\n",
    "    # Assign timestamps to bullet points\n",
    "    timestamped_bullets = []\n",
    "    for i, bullet in enumerate(bullet_points):\n",
    "        if i < len(relevant_segments):\n",
    "            timestamp = format_timestamp(relevant_segments[i]['start'])\n",
    "        else:\n",
    "            timestamp = format_timestamp(relevant_segments[-1]['start'])\n",
    "        timestamped_bullets.append(f\"[{timestamp}] {bullet.strip('- ')}\")\n",
    "\n",
    "    return timestamped_bullets"
   ]
  },
  {
   "cell_type": "code",
   "execution_count": null,
   "metadata": {},
   "outputs": [],
   "source": [
    "def chat_about_video(bullet_points, user_input, transcript_length):\n",
    "    context = \"Here are the main points of a video:\\n\" + \"\\n\".join(bullet_points)\n",
    "    prompt = f\"{context}\\n\\nHuman: {user_input}\\n\\nAssistant:\"\n",
    "    \n",
    "    # Calculate dynamic lengths for chat response\n",
    "    input_length, max_new_tokens = get_dynamic_length(transcript_length, min_ratio=0.2, max_ratio=0.5, min_length=512, max_length=4096)\n",
    "    \n",
    "    response = text_generator(prompt, max_new_tokens=max_new_tokens, num_return_sequences=1)[0]['generated_text']\n",
    "    return response.split(\"Assistant:\")[-1].strip()"
   ]
  },
  {
   "cell_type": "code",
   "execution_count": null,
   "metadata": {},
   "outputs": [],
   "source": [
    "def main():\n",
    "    video_url = input(\"Enter the YouTube video URL: \")\n",
    "    video_id = video_url.split(\"v=\")[1]\n",
    "    \n",
    "    # Get video information\n",
    "    video_info = get_video_info(video_id)\n",
    "    if video_info:\n",
    "        print(f\"Title: {video_info['title']}\")\n",
    "        print(f\"Description: {video_info['description'][:100]}...\")\n",
    "    \n",
    "    try:\n",
    "        # Get transcript with timestamps\n",
    "        transcript = get_transcript_with_timestamps(video_id)\n",
    "        transcript_length = sum(len(entry['text'].split()) for entry in transcript)\n",
    "        print(f\"Transcript length: {transcript_length} words\")\n",
    "        \n",
    "        # Ask user for summary preference\n",
    "        summary_type = input(\"Do you want a full summary or a summary based on specific keywords? (full/keywords): \").lower()\n",
    "        \n",
    "        if summary_type == 'keywords':\n",
    "            keywords = input(\"Enter keywords (comma-separated): \").split(',')\n",
    "            keywords = [k.strip() for k in keywords]\n",
    "            bullet_points = generate_bullet_points(transcript, keywords)\n",
    "        else:\n",
    "            bullet_points = generate_bullet_points(transcript)\n",
    "        \n",
    "        print(\"\\nVideo Summary (Bullet Points with Timestamps):\")\n",
    "        for bullet in bullet_points:\n",
    "            print(bullet)\n",
    "        \n",
    "        # Chat loop\n",
    "        print(\"\\nYou can now chat about the video. Type 'quit' to exit.\")\n",
    "        while True:\n",
    "            user_input = input(\"\\nYou: \")\n",
    "            if user_input.lower() == 'quit':\n",
    "                break\n",
    "            \n",
    "            response = chat_about_video(bullet_points, user_input, transcript_length)\n",
    "            print(f\"Assistant: {response}\")\n",
    "    except Exception as e:\n",
    "        print(f\"An error occurred: {str(e)}\")\n",
    "        print(\"Unable to process the video. Please try another video or check your input.\")\n",
    "\n",
    "if __name__ == \"__main__\":\n",
    "    main()"
   ]
  }
 ],
 "metadata": {
  "kernelspec": {
   "display_name": "yt_summary",
   "language": "python",
   "name": "python3"
  },
  "language_info": {
   "codemirror_mode": {
    "name": "ipython",
    "version": 3
   },
   "file_extension": ".py",
   "mimetype": "text/x-python",
   "name": "python",
   "nbconvert_exporter": "python",
   "pygments_lexer": "ipython3",
   "version": "3.11.9"
  }
 },
 "nbformat": 4,
 "nbformat_minor": 2
}
